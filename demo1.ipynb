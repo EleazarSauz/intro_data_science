{
 "cells": [
  {
   "cell_type": "markdown",
   "metadata": {},
   "source": [
    "# Regresión Lineal\n",
    "\n",
    "<h2 style=\"color: red\">Hola h2 red</h2>"
   ]
  },
  {
   "cell_type": "code",
   "execution_count": 16,
   "metadata": {},
   "outputs": [
    {
     "name": "stdout",
     "output_type": "stream",
     "text": [
      "        modelo  cilindraje  potencia  peso  consumo\n",
      "0     Maserati        2789       209  1485     14.5\n",
      "1     Daihatsu         846        32   650      5.7\n",
      "2       Toyota        1331        55  1010      7.1\n",
      "3         Fort        1390        54  1110      8.6\n",
      "4        Mazda        2497       122  1330     10.8\n",
      "5        Volvo        2473       125  1570     12.7\n",
      "6       Toyota        2438        97  1800     12.8\n",
      "7      Renault        2165       101  1500     11.7\n",
      "8        Honda        1396        66  1140      7.7\n",
      "9           VW        1984        85  1155      9.5\n",
      "10      Suzuki         993        39   790      5.8\n",
      "11      Lancia        2958       150  1550     11.9\n",
      "12    Mercedes        5987       300  2250     18.7\n",
      "13       Volvo        2435       106  1370     10.8\n",
      "14          VW        1390        44   955      6.5\n",
      "15     Hyundai        2972       107  1400     11.7\n",
      "16        Opel        1195        33   895      6.8\n",
      "17        Opel        1597        74  1080      7.4\n",
      "18     Peugeot        1761        74  1100      9.0\n",
      "19  Mitsubishi        1998        66  1300      7.6\n",
      "20     Citroen        1998        89  1140      8.8\n",
      "21     Peugeot        1998        89  1560     10.8\n",
      "22        Fiat         899        29   730      6.1\n",
      "23        Seat        1984        85  1635     11.6\n",
      "24        Ford        1242        55   940      6.6\n"
     ]
    }
   ],
   "source": [
    "import pandas as pd\n",
    "\n",
    "df = pd.read_csv('cars.csv')\n",
    "\n",
    "print(df)"
   ]
  },
  {
   "cell_type": "code",
   "execution_count": 20,
   "metadata": {},
   "outputs": [
    {
     "name": "stdout",
     "output_type": "stream",
     "text": [
      "                            OLS Regression Results                            \n",
      "==============================================================================\n",
      "Dep. Variable:                consumo   R-squared:                       0.838\n",
      "Model:                            OLS   Adj. R-squared:                  0.830\n",
      "Method:                 Least Squares   F-statistic:                     118.5\n",
      "Date:                Sun, 05 Apr 2020   Prob (F-statistic):           1.50e-10\n",
      "Time:                        21:35:10   Log-Likelihood:                -40.932\n",
      "No. Observations:                  25   AIC:                             85.86\n",
      "Df Residuals:                      23   BIC:                             88.30\n",
      "Df Model:                           1                                         \n",
      "Covariance Type:            nonrobust                                         \n",
      "==============================================================================\n",
      "                 coef    std err          t      P>|t|      [0.025      0.975]\n",
      "------------------------------------------------------------------------------\n",
      "Intercept      4.0078      0.579      6.918      0.000       2.809       5.206\n",
      "cilindraje     0.0028      0.000     10.888      0.000       0.002       0.003\n",
      "==============================================================================\n",
      "Omnibus:                        2.038   Durbin-Watson:                   1.571\n",
      "Prob(Omnibus):                  0.361   Jarque-Bera (JB):                1.773\n",
      "Skew:                           0.600   Prob(JB):                        0.412\n",
      "Kurtosis:                       2.489   Cond. No.                     5.07e+03\n",
      "==============================================================================\n",
      "\n",
      "Warnings:\n",
      "[1] Standard Errors assume that the covariance matrix of the errors is correctly specified.\n",
      "[2] The condition number is large, 5.07e+03. This might indicate that there are\n",
      "strong multicollinearity or other numerical problems.\n"
     ]
    }
   ],
   "source": [
    "import statsmodels.formula.api as smf\n",
    "\n",
    "reg = smf.ols('consumo ~ cilindraje', data=df).fit()\n",
    "\n",
    "#reg2 = sfm.\n",
    "\n",
    "print(reg.summary())"
   ]
  },
  {
   "cell_type": "code",
   "execution_count": 21,
   "metadata": {},
   "outputs": [
    {
     "name": "stdout",
     "output_type": "stream",
     "text": [
      "Pandas version 0.24.2\n"
     ]
    }
   ],
   "source": [
    "print('Pandas version ' + pd.__version__)"
   ]
  },
  {
   "cell_type": "code",
   "execution_count": null,
   "metadata": {},
   "outputs": [],
   "source": []
  }
 ],
 "metadata": {
  "kernelspec": {
   "display_name": "conda_python3",
   "language": "python",
   "name": "conda_python3"
  },
  "language_info": {
   "codemirror_mode": {
    "name": "ipython",
    "version": 3
   },
   "file_extension": ".py",
   "mimetype": "text/x-python",
   "name": "python",
   "nbconvert_exporter": "python",
   "pygments_lexer": "ipython3",
   "version": "3.6.5"
  }
 },
 "nbformat": 4,
 "nbformat_minor": 4
}
